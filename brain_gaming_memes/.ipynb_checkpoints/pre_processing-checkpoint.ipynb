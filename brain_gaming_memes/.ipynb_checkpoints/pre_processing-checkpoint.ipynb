{
 "cells": [
  {
   "cell_type": "code",
   "execution_count": 34,
   "metadata": {},
   "outputs": [],
   "source": [
    "import pandas as pd\n",
    "import os"
   ]
  },
  {
   "cell_type": "code",
   "execution_count": 35,
   "metadata": {},
   "outputs": [],
   "source": [
    "df = pd.read_csv('memes_data.tsv',sep='\\t')\n",
    "templates = set([i for i in df['MemeLabel']])\n",
    "templates = list(templates)"
   ]
  },
  {
   "cell_type": "code",
   "execution_count": null,
   "metadata": {},
   "outputs": [],
   "source": [
    "import requests\n",
    "os.mkdir('templates')"
   ]
  },
  {
   "cell_type": "code",
   "execution_count": 33,
   "metadata": {},
   "outputs": [
    {
     "name": "stdout",
     "output_type": "stream",
     "text": [
      "[Errno 22] Invalid argument: 'templates/Who Would Win?.jpg'\n"
     ]
    }
   ],
   "source": [
    "for i in templates:\n",
    "    try:\n",
    "        j = i.replace(' ','-')\n",
    "        response = requests.get(f'https://imgflip.com/s/meme/{j}.jpg')\n",
    "        with open(f'templates/{i}.jpg', 'wb') as img:\n",
    "            img.write(response.content)\n",
    "    except OSError as err:\n",
    "        print(err)    "
   ]
  },
  {
   "cell_type": "code",
   "execution_count": 68,
   "metadata": {},
   "outputs": [],
   "source": [
    "meme_ids = pd.read_json( 'train_gena_24_4000.json')\n",
    "meme_ids = [i for i in meme_ids[0]]\n",
    "meme_ids = list(set(meme_ids))"
   ]
  },
  {
   "cell_type": "code",
   "execution_count": 63,
   "metadata": {},
   "outputs": [
    {
     "data": {
      "text/plain": [
       "24"
      ]
     },
     "execution_count": 63,
     "metadata": {},
     "output_type": "execute_result"
    }
   ],
   "source": [
    "len(meme_ids)"
   ]
  },
  {
   "cell_type": "code",
   "execution_count": 67,
   "metadata": {},
   "outputs": [],
   "source": [
    "meme_id_mapping = pd.read_csv('meme_id_mapping.txt',sep=':',header=None)"
   ]
  },
  {
   "cell_type": "code",
   "execution_count": 73,
   "metadata": {},
   "outputs": [
    {
     "data": {
      "text/plain": [
       "['Distracted Boyfriend ID',\n",
       " 'Expanding Brain ID',\n",
       " 'Two Buttons ID',\n",
       " 'Mocking Spongebob ID',\n",
       " 'Batman Slapping Robin ID',\n",
       " 'Roll Safe Think About It ID',\n",
       " 'Waiting Skeleton ID',\n",
       " 'Blank Nut Button ID',\n",
       " 'Boardroom Meeting Suggestion ID',\n",
       " 'Left Exit 12 Off Ramp ID',\n",
       " \"Y'all Got Any More Of That ID\",\n",
       " 'Disaster Girl ID',\n",
       " 'Inhaling Seagull ID']"
      ]
     },
     "execution_count": 73,
     "metadata": {},
     "output_type": "execute_result"
    }
   ],
   "source": [
    "[meme_id_mapping.loc[i][0] for i in meme_id_mapping.index if meme_id_mapping.loc[i][1] in meme_ids] "
   ]
  },
  {
   "cell_type": "code",
   "execution_count": null,
   "metadata": {},
   "outputs": [],
   "source": []
  }
 ],
 "metadata": {
  "kernelspec": {
   "display_name": "Python 3",
   "language": "python",
   "name": "python3"
  },
  "language_info": {
   "codemirror_mode": {
    "name": "ipython",
    "version": 3
   },
   "file_extension": ".py",
   "mimetype": "text/x-python",
   "name": "python",
   "nbconvert_exporter": "python",
   "pygments_lexer": "ipython3",
   "version": "3.7.3"
  }
 },
 "nbformat": 4,
 "nbformat_minor": 2
}
